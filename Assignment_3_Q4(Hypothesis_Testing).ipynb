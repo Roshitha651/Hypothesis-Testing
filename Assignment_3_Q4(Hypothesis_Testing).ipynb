{
  "nbformat": 4,
  "nbformat_minor": 0,
  "metadata": {
    "colab": {
      "name": "Assignment_3_Q4(Hypothesis Testing).ipynb",
      "provenance": []
    },
    "kernelspec": {
      "name": "python3",
      "display_name": "Python 3"
    },
    "language_info": {
      "name": "python"
    }
  },
  "cells": [
    {
      "cell_type": "code",
      "execution_count": null,
      "metadata": {
        "id": "dnjUk4doAv22"
      },
      "outputs": [],
      "source": [
        "import pandas as pd\n",
        "import numpy as np\n",
        "from scipy import stats\n",
        "from scipy.stats import norm\n",
        "from scipy.stats import chi2_contingency"
      ]
    },
    {
      "cell_type": "code",
      "source": [
        "data=pd.read_csv('Costomer+OrderForm.csv')\n",
        "data"
      ],
      "metadata": {
        "id": "1H0dywfuBF6Q"
      },
      "execution_count": null,
      "outputs": []
    },
    {
      "cell_type": "code",
      "source": [
        "data.Phillippines.value_counts()"
      ],
      "metadata": {
        "id": "-Ri8Pt2dBYak"
      },
      "execution_count": null,
      "outputs": []
    },
    {
      "cell_type": "code",
      "source": [
        "data.Indonesia.value_counts()"
      ],
      "metadata": {
        "id": "bXPfiz0WBcYF"
      },
      "execution_count": null,
      "outputs": []
    },
    {
      "cell_type": "code",
      "source": [
        "data.Malta.value_counts()"
      ],
      "metadata": {
        "id": "wUaB3H1RBhjT"
      },
      "execution_count": null,
      "outputs": []
    },
    {
      "cell_type": "code",
      "source": [
        "data.India.value_counts()\n"
      ],
      "metadata": {
        "id": "umIBiq5lBlI4"
      },
      "execution_count": null,
      "outputs": []
    },
    {
      "cell_type": "code",
      "source": [
        "obs=np.array([[271,267,269,280],[29,33,31,20]])\n",
        "obs"
      ],
      "metadata": {
        "id": "vSyTGj4UBpNO"
      },
      "execution_count": null,
      "outputs": []
    },
    {
      "cell_type": "code",
      "source": [
        ""
      ],
      "metadata": {
        "id": "spp433wgBtIF"
      },
      "execution_count": null,
      "outputs": []
    },
    {
      "cell_type": "markdown",
      "source": [
        "Assume Null Hypothesis as Ho: Independence of categorical variables (customer order forms defective % does not varies by centre) Thus, Alternative hypothesis as Ha Dependence of categorical variables (customer order forms defective % varies by centre)\n",
        "\n"
      ],
      "metadata": {
        "id": "eJItm2bnB0W1"
      }
    },
    {
      "cell_type": "code",
      "source": [
        "chi2_contingency(obs) "
      ],
      "metadata": {
        "id": "q4Hn3OFnB2yF"
      },
      "execution_count": null,
      "outputs": []
    },
    {
      "cell_type": "markdown",
      "source": [
        "# Compare p_value with α = **0.05**"
      ],
      "metadata": {
        "id": "WJfRwAheCCU8"
      }
    },
    {
      "cell_type": "markdown",
      "source": [
        "Inference: As (p_value = 0.2771) > (α = 0.05); Accept Null Hypthesis i.e. Independence of categorical variables Thus, customer order forms defective % does not varies by centre"
      ],
      "metadata": {
        "id": "bvovGU8NCQjo"
      }
    },
    {
      "cell_type": "code",
      "source": [
        ""
      ],
      "metadata": {
        "id": "-8BLVIe-B6DS"
      },
      "execution_count": null,
      "outputs": []
    }
  ]
}